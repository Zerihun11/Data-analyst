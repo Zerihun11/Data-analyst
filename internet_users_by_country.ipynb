{
 "cells": [
  {
   "cell_type": "code",
   "execution_count": 1,
   "id": "1ffad8ee",
   "metadata": {},
   "outputs": [],
   "source": [
    "import pandas as pd\n",
    "import plotly.express as px\n",
    "import matplotlib.pyplot as plt\n",
    "import seaborn as sns"
   ]
  },
  {
   "cell_type": "code",
   "execution_count": 2,
   "id": "12a3e91d",
   "metadata": {},
   "outputs": [],
   "source": [
    "data = pd.read_csv(\"internet_users_by_country_2024.csv\")"
   ]
  },
  {
   "cell_type": "code",
   "execution_count": 3,
   "id": "57098fbd",
   "metadata": {},
   "outputs": [
    {
     "data": {
      "text/plain": [
       "country                                              object\n",
       "InternetUsersNumberOfInternetUsers                    int64\n",
       "InternetTraffic12-31-2020                             int64\n",
       "InternetTrafficPercofResidentsWithInternetAccess    float64\n",
       "dtype: object"
      ]
     },
     "execution_count": 3,
     "metadata": {},
     "output_type": "execute_result"
    }
   ],
   "source": [
    "data.dtypes"
   ]
  },
  {
   "cell_type": "code",
   "execution_count": 4,
   "id": "48294f84",
   "metadata": {},
   "outputs": [
    {
     "data": {
      "text/html": [
       "<div>\n",
       "<style scoped>\n",
       "    .dataframe tbody tr th:only-of-type {\n",
       "        vertical-align: middle;\n",
       "    }\n",
       "\n",
       "    .dataframe tbody tr th {\n",
       "        vertical-align: top;\n",
       "    }\n",
       "\n",
       "    .dataframe thead th {\n",
       "        text-align: right;\n",
       "    }\n",
       "</style>\n",
       "<table border=\"1\" class=\"dataframe\">\n",
       "  <thead>\n",
       "    <tr style=\"text-align: right;\">\n",
       "      <th></th>\n",
       "      <th>country</th>\n",
       "      <th>InternetUsersNumberOfInternetUsers</th>\n",
       "      <th>InternetTraffic12-31-2020</th>\n",
       "      <th>InternetTrafficPercofResidentsWithInternetAccess</th>\n",
       "    </tr>\n",
       "  </thead>\n",
       "  <tbody>\n",
       "    <tr>\n",
       "      <th>0</th>\n",
       "      <td>India</td>\n",
       "      <td>833710000</td>\n",
       "      <td>749342381</td>\n",
       "      <td>59.5</td>\n",
       "    </tr>\n",
       "    <tr>\n",
       "      <th>1</th>\n",
       "      <td>China</td>\n",
       "      <td>1010740000</td>\n",
       "      <td>989080566</td>\n",
       "      <td>69.8</td>\n",
       "    </tr>\n",
       "    <tr>\n",
       "      <th>2</th>\n",
       "      <td>United States</td>\n",
       "      <td>312320000</td>\n",
       "      <td>312322257</td>\n",
       "      <td>93.4</td>\n",
       "    </tr>\n",
       "    <tr>\n",
       "      <th>3</th>\n",
       "      <td>Indonesia</td>\n",
       "      <td>212354070</td>\n",
       "      <td>196400000</td>\n",
       "      <td>76.3</td>\n",
       "    </tr>\n",
       "    <tr>\n",
       "      <th>4</th>\n",
       "      <td>Pakistan</td>\n",
       "      <td>116000000</td>\n",
       "      <td>76380000</td>\n",
       "      <td>50.9</td>\n",
       "    </tr>\n",
       "  </tbody>\n",
       "</table>\n",
       "</div>"
      ],
      "text/plain": [
       "         country  InternetUsersNumberOfInternetUsers  \\\n",
       "0          India                           833710000   \n",
       "1          China                          1010740000   \n",
       "2  United States                           312320000   \n",
       "3      Indonesia                           212354070   \n",
       "4       Pakistan                           116000000   \n",
       "\n",
       "   InternetTraffic12-31-2020  InternetTrafficPercofResidentsWithInternetAccess  \n",
       "0                  749342381                                              59.5  \n",
       "1                  989080566                                              69.8  \n",
       "2                  312322257                                              93.4  \n",
       "3                  196400000                                              76.3  \n",
       "4                   76380000                                              50.9  "
      ]
     },
     "execution_count": 4,
     "metadata": {},
     "output_type": "execute_result"
    }
   ],
   "source": [
    "data.head(5)"
   ]
  },
  {
   "cell_type": "code",
   "execution_count": 8,
   "id": "68846043",
   "metadata": {},
   "outputs": [],
   "source": [
    "data.rename(columns={'country': 'country names'}, inplace=True)"
   ]
  },
  {
   "cell_type": "code",
   "execution_count": 9,
   "id": "344d5900",
   "metadata": {},
   "outputs": [
    {
     "data": {
      "text/html": [
       "<div>\n",
       "<style scoped>\n",
       "    .dataframe tbody tr th:only-of-type {\n",
       "        vertical-align: middle;\n",
       "    }\n",
       "\n",
       "    .dataframe tbody tr th {\n",
       "        vertical-align: top;\n",
       "    }\n",
       "\n",
       "    .dataframe thead th {\n",
       "        text-align: right;\n",
       "    }\n",
       "</style>\n",
       "<table border=\"1\" class=\"dataframe\">\n",
       "  <thead>\n",
       "    <tr style=\"text-align: right;\">\n",
       "      <th></th>\n",
       "      <th>country names</th>\n",
       "      <th>InternetUsersNumberOfInternetUsers</th>\n",
       "      <th>InternetTraffic12-31-2020</th>\n",
       "      <th>InternetTrafficPercofResidentsWithInternetAccess</th>\n",
       "    </tr>\n",
       "  </thead>\n",
       "  <tbody>\n",
       "    <tr>\n",
       "      <th>0</th>\n",
       "      <td>India</td>\n",
       "      <td>833710000</td>\n",
       "      <td>749342381</td>\n",
       "      <td>59.5</td>\n",
       "    </tr>\n",
       "    <tr>\n",
       "      <th>1</th>\n",
       "      <td>China</td>\n",
       "      <td>1010740000</td>\n",
       "      <td>989080566</td>\n",
       "      <td>69.8</td>\n",
       "    </tr>\n",
       "    <tr>\n",
       "      <th>2</th>\n",
       "      <td>United States</td>\n",
       "      <td>312320000</td>\n",
       "      <td>312322257</td>\n",
       "      <td>93.4</td>\n",
       "    </tr>\n",
       "    <tr>\n",
       "      <th>3</th>\n",
       "      <td>Indonesia</td>\n",
       "      <td>212354070</td>\n",
       "      <td>196400000</td>\n",
       "      <td>76.3</td>\n",
       "    </tr>\n",
       "    <tr>\n",
       "      <th>4</th>\n",
       "      <td>Pakistan</td>\n",
       "      <td>116000000</td>\n",
       "      <td>76380000</td>\n",
       "      <td>50.9</td>\n",
       "    </tr>\n",
       "  </tbody>\n",
       "</table>\n",
       "</div>"
      ],
      "text/plain": [
       "   country names  InternetUsersNumberOfInternetUsers  \\\n",
       "0          India                           833710000   \n",
       "1          China                          1010740000   \n",
       "2  United States                           312320000   \n",
       "3      Indonesia                           212354070   \n",
       "4       Pakistan                           116000000   \n",
       "\n",
       "   InternetTraffic12-31-2020  InternetTrafficPercofResidentsWithInternetAccess  \n",
       "0                  749342381                                              59.5  \n",
       "1                  989080566                                              69.8  \n",
       "2                  312322257                                              93.4  \n",
       "3                  196400000                                              76.3  \n",
       "4                   76380000                                              50.9  "
      ]
     },
     "execution_count": 9,
     "metadata": {},
     "output_type": "execute_result"
    }
   ],
   "source": [
    "data.head(5)"
   ]
  },
  {
   "cell_type": "code",
   "execution_count": 14,
   "id": "950fa0e6",
   "metadata": {},
   "outputs": [
    {
     "data": {
      "application/vnd.plotly.v1+json": {
       "config": {
        "plotlyServerURL": "https://plot.ly"
       },
       "data": [
        {
         "coloraxis": "coloraxis",
         "geo": "geo",
         "hovertemplate": "<b>%{hovertext}</b><br><br>country names=%{location}<br>InternetUsersNumberOfInternetUsers=%{z}<extra></extra>",
         "hovertext": [
          833710000,
          1010740000,
          312320000,
          212354070,
          116000000,
          154301195,
          178100000,
          129180000,
          124630000,
          21147255,
          110400000,
          118626672,
          101900000,
          54741493,
          16355917,
          84919500,
          78086663,
          72500000,
          79127551,
          61900000,
          23142960,
          65045228,
          60421689,
          34545165,
          54798299,
          46870422,
          28530000,
          43416500,
          49799909,
          18502166,
          13124100,
          43509182,
          31027400,
          37836425,
          42000000,
          9237489,
          34697848,
          37133414,
          25589581,
          40912381,
          8980670,
          35005034,
          17161534,
          8353377,
          6523613,
          14767818,
          29601700,
          30987000,
          21900000,
          2864000,
          12253653,
          22735000,
          9158422,
          3363848,
          23391152,
          20000,
          8500000,
          12480176,
          22639500,
          4594265,
          8879700,
          2717243,
          9870427,
          16465777,
          18835100,
          14845869,
          2237932,
          2089900,
          15769600,
          10750400,
          9749527,
          16383879,
          13875400,
          8400000,
          2551672,
          5981638,
          3801758,
          1606122,
          8902400,
          8170000,
          4070872,
          10738055,
          8489975,
          8700000,
          900716,
          8373508,
          5546700,
          9927075,
          1099945,
          9323428,
          8745304,
          3013256,
          8115397,
          8945900,
          8588776,
          12176400,
          8027681,
          7993450,
          1011837,
          1043725,
          7999515,
          8426800,
          4287200,
          6688549,
          4272300,
          6771160,
          6658900,
          6177748,
          3683700,
          4805716,
          1562794,
          4895400,
          930800,
          5451383,
          5689589,
          557085,
          4917528,
          5225678,
          784500,
          5388956,
          3977083,
          4561987,
          4425600,
          5692267,
          4626642,
          969519,
          5061797,
          3411900,
          4332106,
          3787838,
          248199,
          3628500,
          3001700,
          3261800,
          3067446,
          3047311,
          2828846,
          442050,
          2191467,
          2027807,
          2288566,
          3179400,
          1247000,
          2603900,
          1347418,
          1367641,
          682990,
          900000,
          1809078,
          1687421,
          1663739,
          362891,
          1142200,
          1804583,
          515000,
          1276521,
          919000,
          1320400,
          665245,
          548832,
          608000,
          688000,
          228800,
          576100,
          583900,
          172400,
          632175,
          636565,
          428200,
          547000,
          352120,
          28000,
          478900,
          446300,
          531800,
          305200,
          347467,
          290100,
          343400,
          303302,
          107940,
          122900,
          162800,
          230000,
          237826,
          228717,
          63864,
          141500,
          151274,
          142970,
          181200,
          61100,
          92200,
          56193,
          87900,
          80100,
          71300,
          111800,
          91200,
          67540,
          79731,
          71200,
          73101,
          51992,
          73800,
          61969,
          55807,
          52000,
          48489,
          45800,
          37000,
          39100,
          34800,
          25000,
          38306,
          38507,
          20428,
          32939,
          19900,
          25024,
          18900,
          13100,
          13665,
          10200,
          6400,
          6200,
          7079,
          5200,
          3400,
          3600,
          1485,
          800,
          583
         ],
         "locationmode": "country names",
         "locations": [
          "India",
          "China",
          "United States",
          "Indonesia",
          "Pakistan",
          "Nigeria",
          "Brazil",
          "Bangladesh",
          "Russia",
          "Ethiopia",
          "Mexico",
          "Japan",
          "Philippines",
          "Egypt",
          "DR Congo",
          "Vietnam",
          "Iran",
          "Turkey",
          "Germany",
          "Thailand",
          "Tanzania",
          "United Kingdom",
          "France",
          "South Africa",
          "Italy",
          "Kenya",
          "Myanmar",
          "Colombia",
          "South Korea",
          "Uganda",
          "Sudan",
          "Spain",
          "Iraq",
          "Algeria",
          "Argentina",
          "Afghanistan",
          "Poland",
          "Canada",
          "Morocco",
          "Ukraine",
          "Angola",
          "Saudi Arabia",
          "Uzbekistan",
          "Yemen",
          "Mozambique",
          "Ghana",
          "Peru",
          "Malaysia",
          "Nepal",
          "Madagascar",
          "Ivory Coast",
          "Venezuela",
          "Cameroon",
          "Niger",
          "Australia",
          "North Korea",
          "Syria",
          "Mali",
          "Taiwan",
          "Burkina Faso",
          "Sri Lanka",
          "Malawi",
          "Zambia",
          "Kazakhstan",
          "Chile",
          "Romania",
          "Chad",
          "Somalia",
          "Ecuador",
          "Guatemala",
          "Senegal",
          "Netherlands",
          "Cambodia",
          "Zimbabwe",
          "Guinea",
          "Rwanda",
          "Benin",
          "Burundi",
          "Bolivia",
          "Tunisia",
          "Haiti",
          "Belgium",
          "Dominican Republic",
          "Jordan",
          "South Sudan",
          "Cuba",
          "Honduras",
          "Sweden",
          "Papua New Guinea",
          "Czech Republic",
          "Azerbaijan",
          "Tajikistan",
          "Greece",
          "Portugal",
          "Hungary",
          "United Arab Emirates",
          "Belarus",
          "Israel",
          "Togo",
          "Sierra Leone",
          "Austria",
          "Switzerland",
          "Laos",
          "Hong Kong",
          "Nicaragua",
          "Serbia",
          "Libya",
          "Paraguay",
          "Kyrgyzstan",
          "Bulgaria",
          "Turkmenistan",
          "El Salvador",
          "Republic of the Congo",
          "Singapore",
          "Denmark",
          "Central African Republic",
          "Slovakia",
          "Finland",
          "Liberia",
          "Norway",
          "Palestine",
          "New Zealand",
          "Costa Rica",
          "Lebanon",
          "Ireland",
          "Mauritania",
          "Oman",
          "Panama",
          "Kuwait",
          "Croatia",
          "Eritrea",
          "Georgia",
          "Mongolia",
          "Uruguay",
          "Moldova",
          "Puerto Rico",
          "Bosnia and Herzegovina",
          "Gambia",
          "Albania",
          "Jamaica",
          "Armenia",
          "Qatar",
          "Botswana",
          "Lithuania",
          "Namibia",
          "Gabon",
          "Lesotho",
          "Guinea-Bissau",
          "Slovenia",
          "North Macedonia",
          "Latvia",
          "Equatorial Guinea",
          "Trinidad and Tobago",
          "Bahrain",
          "Timor-Leste",
          "Estonia",
          "Mauritius",
          "Cyprus",
          "Eswatini",
          "Djibouti",
          "Reunion",
          "Fiji",
          "Comoros",
          "Guyana",
          "Bhutan",
          "Solomon Islands",
          "Macau",
          "Luxembourg",
          "Suriname",
          "Montenegro",
          "Cape Verde",
          "Western Sahara",
          "Malta",
          "Maldives",
          "Brunei",
          "Belize",
          "Bahamas",
          "Guadeloupe",
          "Iceland",
          "Martinique",
          "Mayotte",
          "Vanuatu",
          "French Guiana",
          "French Polynesia",
          "New Caledonia",
          "Barbados",
          "Sao Tome and Principe",
          "Samoa",
          "Curacao",
          "Saint Lucia",
          "Guam",
          "Kiribati",
          "Grenada",
          "Micronesia",
          "Jersey",
          "Tonga",
          "Seychelles",
          "Aruba",
          "Saint Vincent and the Grenadines",
          "United States Virgin Islands",
          "Antigua and Barbuda",
          "Isle of Man",
          "Andorra",
          "Dominica",
          "Cayman Islands",
          "Bermuda",
          "Guernsey",
          "Greenland",
          "Faroe Islands",
          "Saint Kitts and Nevis",
          "Turks and Caicos Islands",
          "Sint Maarten",
          "American Samoa",
          "Marshall Islands",
          "Liechtenstein",
          "Monaco",
          "San Marino",
          "Gibraltar",
          "Saint Martin",
          "British Virgin Islands",
          "Palau",
          "Cook Islands",
          "Anguilla",
          "Nauru",
          "Tuvalu",
          "Wallis and Futuna",
          "Saint Barthelemy",
          "Saint Pierre and Miquelon",
          "Montserrat",
          "Falkland Islands",
          "Niue",
          "Tokelau",
          "Vatican City"
         ],
         "name": "",
         "type": "choropleth",
         "z": [
          833710000,
          1010740000,
          312320000,
          212354070,
          116000000,
          154301195,
          178100000,
          129180000,
          124630000,
          21147255,
          110400000,
          118626672,
          101900000,
          54741493,
          16355917,
          84919500,
          78086663,
          72500000,
          79127551,
          61900000,
          23142960,
          65045228,
          60421689,
          34545165,
          54798299,
          46870422,
          28530000,
          43416500,
          49799909,
          18502166,
          13124100,
          43509182,
          31027400,
          37836425,
          42000000,
          9237489,
          34697848,
          37133414,
          25589581,
          40912381,
          8980670,
          35005034,
          17161534,
          8353377,
          6523613,
          14767818,
          29601700,
          30987000,
          21900000,
          2864000,
          12253653,
          22735000,
          9158422,
          3363848,
          23391152,
          20000,
          8500000,
          12480176,
          22639500,
          4594265,
          8879700,
          2717243,
          9870427,
          16465777,
          18835100,
          14845869,
          2237932,
          2089900,
          15769600,
          10750400,
          9749527,
          16383879,
          13875400,
          8400000,
          2551672,
          5981638,
          3801758,
          1606122,
          8902400,
          8170000,
          4070872,
          10738055,
          8489975,
          8700000,
          900716,
          8373508,
          5546700,
          9927075,
          1099945,
          9323428,
          8745304,
          3013256,
          8115397,
          8945900,
          8588776,
          12176400,
          8027681,
          7993450,
          1011837,
          1043725,
          7999515,
          8426800,
          4287200,
          6688549,
          4272300,
          6771160,
          6658900,
          6177748,
          3683700,
          4805716,
          1562794,
          4895400,
          930800,
          5451383,
          5689589,
          557085,
          4917528,
          5225678,
          784500,
          5388956,
          3977083,
          4561987,
          4425600,
          5692267,
          4626642,
          969519,
          5061797,
          3411900,
          4332106,
          3787838,
          248199,
          3628500,
          3001700,
          3261800,
          3067446,
          3047311,
          2828846,
          442050,
          2191467,
          2027807,
          2288566,
          3179400,
          1247000,
          2603900,
          1347418,
          1367641,
          682990,
          900000,
          1809078,
          1687421,
          1663739,
          362891,
          1142200,
          1804583,
          515000,
          1276521,
          919000,
          1320400,
          665245,
          548832,
          608000,
          688000,
          228800,
          576100,
          583900,
          172400,
          632175,
          636565,
          428200,
          547000,
          352120,
          28000,
          478900,
          446300,
          531800,
          305200,
          347467,
          290100,
          343400,
          303302,
          107940,
          122900,
          162800,
          230000,
          237826,
          228717,
          63864,
          141500,
          151274,
          142970,
          181200,
          61100,
          92200,
          56193,
          87900,
          80100,
          71300,
          111800,
          91200,
          67540,
          79731,
          71200,
          73101,
          51992,
          73800,
          61969,
          55807,
          52000,
          48489,
          45800,
          37000,
          39100,
          34800,
          25000,
          38306,
          38507,
          20428,
          32939,
          19900,
          25024,
          18900,
          13100,
          13665,
          10200,
          6400,
          6200,
          7079,
          5200,
          3400,
          3600,
          1485,
          800,
          583
         ]
        }
       ],
       "layout": {
        "coloraxis": {
         "colorbar": {
          "title": {
           "text": "InternetUsersNumberOfInternetUsers"
          }
         },
         "colorscale": [
          [
           0,
           "#440154"
          ],
          [
           0.1111111111111111,
           "#482878"
          ],
          [
           0.2222222222222222,
           "#3e4989"
          ],
          [
           0.3333333333333333,
           "#31688e"
          ],
          [
           0.4444444444444444,
           "#26828e"
          ],
          [
           0.5555555555555556,
           "#1f9e89"
          ],
          [
           0.6666666666666666,
           "#35b779"
          ],
          [
           0.7777777777777778,
           "#6ece58"
          ],
          [
           0.8888888888888888,
           "#b5de2b"
          ],
          [
           1,
           "#fde725"
          ]
         ]
        },
        "geo": {
         "center": {},
         "domain": {
          "x": [
           0,
           1
          ],
          "y": [
           0,
           1
          ]
         }
        },
        "legend": {
         "tracegroupgap": 0
        },
        "template": {
         "data": {
          "bar": [
           {
            "error_x": {
             "color": "#2a3f5f"
            },
            "error_y": {
             "color": "#2a3f5f"
            },
            "marker": {
             "line": {
              "color": "#E5ECF6",
              "width": 0.5
             },
             "pattern": {
              "fillmode": "overlay",
              "size": 10,
              "solidity": 0.2
             }
            },
            "type": "bar"
           }
          ],
          "barpolar": [
           {
            "marker": {
             "line": {
              "color": "#E5ECF6",
              "width": 0.5
             },
             "pattern": {
              "fillmode": "overlay",
              "size": 10,
              "solidity": 0.2
             }
            },
            "type": "barpolar"
           }
          ],
          "carpet": [
           {
            "aaxis": {
             "endlinecolor": "#2a3f5f",
             "gridcolor": "white",
             "linecolor": "white",
             "minorgridcolor": "white",
             "startlinecolor": "#2a3f5f"
            },
            "baxis": {
             "endlinecolor": "#2a3f5f",
             "gridcolor": "white",
             "linecolor": "white",
             "minorgridcolor": "white",
             "startlinecolor": "#2a3f5f"
            },
            "type": "carpet"
           }
          ],
          "choropleth": [
           {
            "colorbar": {
             "outlinewidth": 0,
             "ticks": ""
            },
            "type": "choropleth"
           }
          ],
          "contour": [
           {
            "colorbar": {
             "outlinewidth": 0,
             "ticks": ""
            },
            "colorscale": [
             [
              0,
              "#0d0887"
             ],
             [
              0.1111111111111111,
              "#46039f"
             ],
             [
              0.2222222222222222,
              "#7201a8"
             ],
             [
              0.3333333333333333,
              "#9c179e"
             ],
             [
              0.4444444444444444,
              "#bd3786"
             ],
             [
              0.5555555555555556,
              "#d8576b"
             ],
             [
              0.6666666666666666,
              "#ed7953"
             ],
             [
              0.7777777777777778,
              "#fb9f3a"
             ],
             [
              0.8888888888888888,
              "#fdca26"
             ],
             [
              1,
              "#f0f921"
             ]
            ],
            "type": "contour"
           }
          ],
          "contourcarpet": [
           {
            "colorbar": {
             "outlinewidth": 0,
             "ticks": ""
            },
            "type": "contourcarpet"
           }
          ],
          "heatmap": [
           {
            "colorbar": {
             "outlinewidth": 0,
             "ticks": ""
            },
            "colorscale": [
             [
              0,
              "#0d0887"
             ],
             [
              0.1111111111111111,
              "#46039f"
             ],
             [
              0.2222222222222222,
              "#7201a8"
             ],
             [
              0.3333333333333333,
              "#9c179e"
             ],
             [
              0.4444444444444444,
              "#bd3786"
             ],
             [
              0.5555555555555556,
              "#d8576b"
             ],
             [
              0.6666666666666666,
              "#ed7953"
             ],
             [
              0.7777777777777778,
              "#fb9f3a"
             ],
             [
              0.8888888888888888,
              "#fdca26"
             ],
             [
              1,
              "#f0f921"
             ]
            ],
            "type": "heatmap"
           }
          ],
          "heatmapgl": [
           {
            "colorbar": {
             "outlinewidth": 0,
             "ticks": ""
            },
            "colorscale": [
             [
              0,
              "#0d0887"
             ],
             [
              0.1111111111111111,
              "#46039f"
             ],
             [
              0.2222222222222222,
              "#7201a8"
             ],
             [
              0.3333333333333333,
              "#9c179e"
             ],
             [
              0.4444444444444444,
              "#bd3786"
             ],
             [
              0.5555555555555556,
              "#d8576b"
             ],
             [
              0.6666666666666666,
              "#ed7953"
             ],
             [
              0.7777777777777778,
              "#fb9f3a"
             ],
             [
              0.8888888888888888,
              "#fdca26"
             ],
             [
              1,
              "#f0f921"
             ]
            ],
            "type": "heatmapgl"
           }
          ],
          "histogram": [
           {
            "marker": {
             "pattern": {
              "fillmode": "overlay",
              "size": 10,
              "solidity": 0.2
             }
            },
            "type": "histogram"
           }
          ],
          "histogram2d": [
           {
            "colorbar": {
             "outlinewidth": 0,
             "ticks": ""
            },
            "colorscale": [
             [
              0,
              "#0d0887"
             ],
             [
              0.1111111111111111,
              "#46039f"
             ],
             [
              0.2222222222222222,
              "#7201a8"
             ],
             [
              0.3333333333333333,
              "#9c179e"
             ],
             [
              0.4444444444444444,
              "#bd3786"
             ],
             [
              0.5555555555555556,
              "#d8576b"
             ],
             [
              0.6666666666666666,
              "#ed7953"
             ],
             [
              0.7777777777777778,
              "#fb9f3a"
             ],
             [
              0.8888888888888888,
              "#fdca26"
             ],
             [
              1,
              "#f0f921"
             ]
            ],
            "type": "histogram2d"
           }
          ],
          "histogram2dcontour": [
           {
            "colorbar": {
             "outlinewidth": 0,
             "ticks": ""
            },
            "colorscale": [
             [
              0,
              "#0d0887"
             ],
             [
              0.1111111111111111,
              "#46039f"
             ],
             [
              0.2222222222222222,
              "#7201a8"
             ],
             [
              0.3333333333333333,
              "#9c179e"
             ],
             [
              0.4444444444444444,
              "#bd3786"
             ],
             [
              0.5555555555555556,
              "#d8576b"
             ],
             [
              0.6666666666666666,
              "#ed7953"
             ],
             [
              0.7777777777777778,
              "#fb9f3a"
             ],
             [
              0.8888888888888888,
              "#fdca26"
             ],
             [
              1,
              "#f0f921"
             ]
            ],
            "type": "histogram2dcontour"
           }
          ],
          "mesh3d": [
           {
            "colorbar": {
             "outlinewidth": 0,
             "ticks": ""
            },
            "type": "mesh3d"
           }
          ],
          "parcoords": [
           {
            "line": {
             "colorbar": {
              "outlinewidth": 0,
              "ticks": ""
             }
            },
            "type": "parcoords"
           }
          ],
          "pie": [
           {
            "automargin": true,
            "type": "pie"
           }
          ],
          "scatter": [
           {
            "fillpattern": {
             "fillmode": "overlay",
             "size": 10,
             "solidity": 0.2
            },
            "type": "scatter"
           }
          ],
          "scatter3d": [
           {
            "line": {
             "colorbar": {
              "outlinewidth": 0,
              "ticks": ""
             }
            },
            "marker": {
             "colorbar": {
              "outlinewidth": 0,
              "ticks": ""
             }
            },
            "type": "scatter3d"
           }
          ],
          "scattercarpet": [
           {
            "marker": {
             "colorbar": {
              "outlinewidth": 0,
              "ticks": ""
             }
            },
            "type": "scattercarpet"
           }
          ],
          "scattergeo": [
           {
            "marker": {
             "colorbar": {
              "outlinewidth": 0,
              "ticks": ""
             }
            },
            "type": "scattergeo"
           }
          ],
          "scattergl": [
           {
            "marker": {
             "colorbar": {
              "outlinewidth": 0,
              "ticks": ""
             }
            },
            "type": "scattergl"
           }
          ],
          "scattermapbox": [
           {
            "marker": {
             "colorbar": {
              "outlinewidth": 0,
              "ticks": ""
             }
            },
            "type": "scattermapbox"
           }
          ],
          "scatterpolar": [
           {
            "marker": {
             "colorbar": {
              "outlinewidth": 0,
              "ticks": ""
             }
            },
            "type": "scatterpolar"
           }
          ],
          "scatterpolargl": [
           {
            "marker": {
             "colorbar": {
              "outlinewidth": 0,
              "ticks": ""
             }
            },
            "type": "scatterpolargl"
           }
          ],
          "scatterternary": [
           {
            "marker": {
             "colorbar": {
              "outlinewidth": 0,
              "ticks": ""
             }
            },
            "type": "scatterternary"
           }
          ],
          "surface": [
           {
            "colorbar": {
             "outlinewidth": 0,
             "ticks": ""
            },
            "colorscale": [
             [
              0,
              "#0d0887"
             ],
             [
              0.1111111111111111,
              "#46039f"
             ],
             [
              0.2222222222222222,
              "#7201a8"
             ],
             [
              0.3333333333333333,
              "#9c179e"
             ],
             [
              0.4444444444444444,
              "#bd3786"
             ],
             [
              0.5555555555555556,
              "#d8576b"
             ],
             [
              0.6666666666666666,
              "#ed7953"
             ],
             [
              0.7777777777777778,
              "#fb9f3a"
             ],
             [
              0.8888888888888888,
              "#fdca26"
             ],
             [
              1,
              "#f0f921"
             ]
            ],
            "type": "surface"
           }
          ],
          "table": [
           {
            "cells": {
             "fill": {
              "color": "#EBF0F8"
             },
             "line": {
              "color": "white"
             }
            },
            "header": {
             "fill": {
              "color": "#C8D4E3"
             },
             "line": {
              "color": "white"
             }
            },
            "type": "table"
           }
          ]
         },
         "layout": {
          "annotationdefaults": {
           "arrowcolor": "#2a3f5f",
           "arrowhead": 0,
           "arrowwidth": 1
          },
          "autotypenumbers": "strict",
          "coloraxis": {
           "colorbar": {
            "outlinewidth": 0,
            "ticks": ""
           }
          },
          "colorscale": {
           "diverging": [
            [
             0,
             "#8e0152"
            ],
            [
             0.1,
             "#c51b7d"
            ],
            [
             0.2,
             "#de77ae"
            ],
            [
             0.3,
             "#f1b6da"
            ],
            [
             0.4,
             "#fde0ef"
            ],
            [
             0.5,
             "#f7f7f7"
            ],
            [
             0.6,
             "#e6f5d0"
            ],
            [
             0.7,
             "#b8e186"
            ],
            [
             0.8,
             "#7fbc41"
            ],
            [
             0.9,
             "#4d9221"
            ],
            [
             1,
             "#276419"
            ]
           ],
           "sequential": [
            [
             0,
             "#0d0887"
            ],
            [
             0.1111111111111111,
             "#46039f"
            ],
            [
             0.2222222222222222,
             "#7201a8"
            ],
            [
             0.3333333333333333,
             "#9c179e"
            ],
            [
             0.4444444444444444,
             "#bd3786"
            ],
            [
             0.5555555555555556,
             "#d8576b"
            ],
            [
             0.6666666666666666,
             "#ed7953"
            ],
            [
             0.7777777777777778,
             "#fb9f3a"
            ],
            [
             0.8888888888888888,
             "#fdca26"
            ],
            [
             1,
             "#f0f921"
            ]
           ],
           "sequentialminus": [
            [
             0,
             "#0d0887"
            ],
            [
             0.1111111111111111,
             "#46039f"
            ],
            [
             0.2222222222222222,
             "#7201a8"
            ],
            [
             0.3333333333333333,
             "#9c179e"
            ],
            [
             0.4444444444444444,
             "#bd3786"
            ],
            [
             0.5555555555555556,
             "#d8576b"
            ],
            [
             0.6666666666666666,
             "#ed7953"
            ],
            [
             0.7777777777777778,
             "#fb9f3a"
            ],
            [
             0.8888888888888888,
             "#fdca26"
            ],
            [
             1,
             "#f0f921"
            ]
           ]
          },
          "colorway": [
           "#636efa",
           "#EF553B",
           "#00cc96",
           "#ab63fa",
           "#FFA15A",
           "#19d3f3",
           "#FF6692",
           "#B6E880",
           "#FF97FF",
           "#FECB52"
          ],
          "font": {
           "color": "#2a3f5f"
          },
          "geo": {
           "bgcolor": "white",
           "lakecolor": "white",
           "landcolor": "#E5ECF6",
           "showlakes": true,
           "showland": true,
           "subunitcolor": "white"
          },
          "hoverlabel": {
           "align": "left"
          },
          "hovermode": "closest",
          "mapbox": {
           "style": "light"
          },
          "paper_bgcolor": "white",
          "plot_bgcolor": "#E5ECF6",
          "polar": {
           "angularaxis": {
            "gridcolor": "white",
            "linecolor": "white",
            "ticks": ""
           },
           "bgcolor": "#E5ECF6",
           "radialaxis": {
            "gridcolor": "white",
            "linecolor": "white",
            "ticks": ""
           }
          },
          "scene": {
           "xaxis": {
            "backgroundcolor": "#E5ECF6",
            "gridcolor": "white",
            "gridwidth": 2,
            "linecolor": "white",
            "showbackground": true,
            "ticks": "",
            "zerolinecolor": "white"
           },
           "yaxis": {
            "backgroundcolor": "#E5ECF6",
            "gridcolor": "white",
            "gridwidth": 2,
            "linecolor": "white",
            "showbackground": true,
            "ticks": "",
            "zerolinecolor": "white"
           },
           "zaxis": {
            "backgroundcolor": "#E5ECF6",
            "gridcolor": "white",
            "gridwidth": 2,
            "linecolor": "white",
            "showbackground": true,
            "ticks": "",
            "zerolinecolor": "white"
           }
          },
          "shapedefaults": {
           "line": {
            "color": "#2a3f5f"
           }
          },
          "ternary": {
           "aaxis": {
            "gridcolor": "white",
            "linecolor": "white",
            "ticks": ""
           },
           "baxis": {
            "gridcolor": "white",
            "linecolor": "white",
            "ticks": ""
           },
           "bgcolor": "#E5ECF6",
           "caxis": {
            "gridcolor": "white",
            "linecolor": "white",
            "ticks": ""
           }
          },
          "title": {
           "x": 0.05
          },
          "xaxis": {
           "automargin": true,
           "gridcolor": "white",
           "linecolor": "white",
           "ticks": "",
           "title": {
            "standoff": 15
           },
           "zerolinecolor": "white",
           "zerolinewidth": 2
          },
          "yaxis": {
           "automargin": true,
           "gridcolor": "white",
           "linecolor": "white",
           "ticks": "",
           "title": {
            "standoff": 15
           },
           "zerolinecolor": "white",
           "zerolinewidth": 2
          }
         }
        },
        "title": {
         "text": "Internet Users Number Of Country"
        }
       }
      },
      "text/html": [
       "<div>                            <div id=\"89d0ffc8-24d5-40be-8859-4146761a66db\" class=\"plotly-graph-div\" style=\"height:525px; width:100%;\"></div>            <script type=\"text/javascript\">                require([\"plotly\"], function(Plotly) {                    window.PLOTLYENV=window.PLOTLYENV || {};                                    if (document.getElementById(\"89d0ffc8-24d5-40be-8859-4146761a66db\")) {                    Plotly.newPlot(                        \"89d0ffc8-24d5-40be-8859-4146761a66db\",                        [{\"coloraxis\":\"coloraxis\",\"geo\":\"geo\",\"hovertemplate\":\"<b>%{hovertext}</b><br><br>country names=%{location}<br>InternetUsersNumberOfInternetUsers=%{z}<extra></extra>\",\"hovertext\":[833710000.0,1010740000.0,312320000.0,212354070.0,116000000.0,154301195.0,178100000.0,129180000.0,124630000.0,21147255.0,110400000.0,118626672.0,101900000.0,54741493.0,16355917.0,84919500.0,78086663.0,72500000.0,79127551.0,61900000.0,23142960.0,65045228.0,60421689.0,34545165.0,54798299.0,46870422.0,28530000.0,43416500.0,49799909.0,18502166.0,13124100.0,43509182.0,31027400.0,37836425.0,42000000.0,9237489.0,34697848.0,37133414.0,25589581.0,40912381.0,8980670.0,35005034.0,17161534.0,8353377.0,6523613.0,14767818.0,29601700.0,30987000.0,21900000.0,2864000.0,12253653.0,22735000.0,9158422.0,3363848.0,23391152.0,20000.0,8500000.0,12480176.0,22639500.0,4594265.0,8879700.0,2717243.0,9870427.0,16465777.0,18835100.0,14845869.0,2237932.0,2089900.0,15769600.0,10750400.0,9749527.0,16383879.0,13875400.0,8400000.0,2551672.0,5981638.0,3801758.0,1606122.0,8902400.0,8170000.0,4070872.0,10738055.0,8489975.0,8700000.0,900716.0,8373508.0,5546700.0,9927075.0,1099945.0,9323428.0,8745304.0,3013256.0,8115397.0,8945900.0,8588776.0,12176400.0,8027681.0,7993450.0,1011837.0,1043725.0,7999515.0,8426800.0,4287200.0,6688549.0,4272300.0,6771160.0,6658900.0,6177748.0,3683700.0,4805716.0,1562794.0,4895400.0,930800.0,5451383.0,5689589.0,557085.0,4917528.0,5225678.0,784500.0,5388956.0,3977083.0,4561987.0,4425600.0,5692267.0,4626642.0,969519.0,5061797.0,3411900.0,4332106.0,3787838.0,248199.0,3628500.0,3001700.0,3261800.0,3067446.0,3047311.0,2828846.0,442050.0,2191467.0,2027807.0,2288566.0,3179400.0,1247000.0,2603900.0,1347418.0,1367641.0,682990.0,900000.0,1809078.0,1687421.0,1663739.0,362891.0,1142200.0,1804583.0,515000.0,1276521.0,919000.0,1320400.0,665245.0,548832.0,608000.0,688000.0,228800.0,576100.0,583900.0,172400.0,632175.0,636565.0,428200.0,547000.0,352120.0,28000.0,478900.0,446300.0,531800.0,305200.0,347467.0,290100.0,343400.0,303302.0,107940.0,122900.0,162800.0,230000.0,237826.0,228717.0,63864.0,141500.0,151274.0,142970.0,181200.0,61100.0,92200.0,56193.0,87900.0,80100.0,71300.0,111800.0,91200.0,67540.0,79731.0,71200.0,73101.0,51992.0,73800.0,61969.0,55807.0,52000.0,48489.0,45800.0,37000.0,39100.0,34800.0,25000.0,38306.0,38507.0,20428.0,32939.0,19900.0,25024.0,18900.0,13100.0,13665.0,10200.0,6400.0,6200.0,7079.0,5200.0,3400.0,3600.0,1485.0,800.0,583.0],\"locationmode\":\"country names\",\"locations\":[\"India\",\"China\",\"United States\",\"Indonesia\",\"Pakistan\",\"Nigeria\",\"Brazil\",\"Bangladesh\",\"Russia\",\"Ethiopia\",\"Mexico\",\"Japan\",\"Philippines\",\"Egypt\",\"DR Congo\",\"Vietnam\",\"Iran\",\"Turkey\",\"Germany\",\"Thailand\",\"Tanzania\",\"United Kingdom\",\"France\",\"South Africa\",\"Italy\",\"Kenya\",\"Myanmar\",\"Colombia\",\"South Korea\",\"Uganda\",\"Sudan\",\"Spain\",\"Iraq\",\"Algeria\",\"Argentina\",\"Afghanistan\",\"Poland\",\"Canada\",\"Morocco\",\"Ukraine\",\"Angola\",\"Saudi Arabia\",\"Uzbekistan\",\"Yemen\",\"Mozambique\",\"Ghana\",\"Peru\",\"Malaysia\",\"Nepal\",\"Madagascar\",\"Ivory Coast\",\"Venezuela\",\"Cameroon\",\"Niger\",\"Australia\",\"North Korea\",\"Syria\",\"Mali\",\"Taiwan\",\"Burkina Faso\",\"Sri Lanka\",\"Malawi\",\"Zambia\",\"Kazakhstan\",\"Chile\",\"Romania\",\"Chad\",\"Somalia\",\"Ecuador\",\"Guatemala\",\"Senegal\",\"Netherlands\",\"Cambodia\",\"Zimbabwe\",\"Guinea\",\"Rwanda\",\"Benin\",\"Burundi\",\"Bolivia\",\"Tunisia\",\"Haiti\",\"Belgium\",\"Dominican Republic\",\"Jordan\",\"South Sudan\",\"Cuba\",\"Honduras\",\"Sweden\",\"Papua New Guinea\",\"Czech Republic\",\"Azerbaijan\",\"Tajikistan\",\"Greece\",\"Portugal\",\"Hungary\",\"United Arab Emirates\",\"Belarus\",\"Israel\",\"Togo\",\"Sierra Leone\",\"Austria\",\"Switzerland\",\"Laos\",\"Hong Kong\",\"Nicaragua\",\"Serbia\",\"Libya\",\"Paraguay\",\"Kyrgyzstan\",\"Bulgaria\",\"Turkmenistan\",\"El Salvador\",\"Republic of the Congo\",\"Singapore\",\"Denmark\",\"Central African Republic\",\"Slovakia\",\"Finland\",\"Liberia\",\"Norway\",\"Palestine\",\"New Zealand\",\"Costa Rica\",\"Lebanon\",\"Ireland\",\"Mauritania\",\"Oman\",\"Panama\",\"Kuwait\",\"Croatia\",\"Eritrea\",\"Georgia\",\"Mongolia\",\"Uruguay\",\"Moldova\",\"Puerto Rico\",\"Bosnia and Herzegovina\",\"Gambia\",\"Albania\",\"Jamaica\",\"Armenia\",\"Qatar\",\"Botswana\",\"Lithuania\",\"Namibia\",\"Gabon\",\"Lesotho\",\"Guinea-Bissau\",\"Slovenia\",\"North Macedonia\",\"Latvia\",\"Equatorial Guinea\",\"Trinidad and Tobago\",\"Bahrain\",\"Timor-Leste\",\"Estonia\",\"Mauritius\",\"Cyprus\",\"Eswatini\",\"Djibouti\",\"Reunion\",\"Fiji\",\"Comoros\",\"Guyana\",\"Bhutan\",\"Solomon Islands\",\"Macau\",\"Luxembourg\",\"Suriname\",\"Montenegro\",\"Cape Verde\",\"Western Sahara\",\"Malta\",\"Maldives\",\"Brunei\",\"Belize\",\"Bahamas\",\"Guadeloupe\",\"Iceland\",\"Martinique\",\"Mayotte\",\"Vanuatu\",\"French Guiana\",\"French Polynesia\",\"New Caledonia\",\"Barbados\",\"Sao Tome and Principe\",\"Samoa\",\"Curacao\",\"Saint Lucia\",\"Guam\",\"Kiribati\",\"Grenada\",\"Micronesia\",\"Jersey\",\"Tonga\",\"Seychelles\",\"Aruba\",\"Saint Vincent and the Grenadines\",\"United States Virgin Islands\",\"Antigua and Barbuda\",\"Isle of Man\",\"Andorra\",\"Dominica\",\"Cayman Islands\",\"Bermuda\",\"Guernsey\",\"Greenland\",\"Faroe Islands\",\"Saint Kitts and Nevis\",\"Turks and Caicos Islands\",\"Sint Maarten\",\"American Samoa\",\"Marshall Islands\",\"Liechtenstein\",\"Monaco\",\"San Marino\",\"Gibraltar\",\"Saint Martin\",\"British Virgin Islands\",\"Palau\",\"Cook Islands\",\"Anguilla\",\"Nauru\",\"Tuvalu\",\"Wallis and Futuna\",\"Saint Barthelemy\",\"Saint Pierre and Miquelon\",\"Montserrat\",\"Falkland Islands\",\"Niue\",\"Tokelau\",\"Vatican City\"],\"name\":\"\",\"z\":[833710000,1010740000,312320000,212354070,116000000,154301195,178100000,129180000,124630000,21147255,110400000,118626672,101900000,54741493,16355917,84919500,78086663,72500000,79127551,61900000,23142960,65045228,60421689,34545165,54798299,46870422,28530000,43416500,49799909,18502166,13124100,43509182,31027400,37836425,42000000,9237489,34697848,37133414,25589581,40912381,8980670,35005034,17161534,8353377,6523613,14767818,29601700,30987000,21900000,2864000,12253653,22735000,9158422,3363848,23391152,20000,8500000,12480176,22639500,4594265,8879700,2717243,9870427,16465777,18835100,14845869,2237932,2089900,15769600,10750400,9749527,16383879,13875400,8400000,2551672,5981638,3801758,1606122,8902400,8170000,4070872,10738055,8489975,8700000,900716,8373508,5546700,9927075,1099945,9323428,8745304,3013256,8115397,8945900,8588776,12176400,8027681,7993450,1011837,1043725,7999515,8426800,4287200,6688549,4272300,6771160,6658900,6177748,3683700,4805716,1562794,4895400,930800,5451383,5689589,557085,4917528,5225678,784500,5388956,3977083,4561987,4425600,5692267,4626642,969519,5061797,3411900,4332106,3787838,248199,3628500,3001700,3261800,3067446,3047311,2828846,442050,2191467,2027807,2288566,3179400,1247000,2603900,1347418,1367641,682990,900000,1809078,1687421,1663739,362891,1142200,1804583,515000,1276521,919000,1320400,665245,548832,608000,688000,228800,576100,583900,172400,632175,636565,428200,547000,352120,28000,478900,446300,531800,305200,347467,290100,343400,303302,107940,122900,162800,230000,237826,228717,63864,141500,151274,142970,181200,61100,92200,56193,87900,80100,71300,111800,91200,67540,79731,71200,73101,51992,73800,61969,55807,52000,48489,45800,37000,39100,34800,25000,38306,38507,20428,32939,19900,25024,18900,13100,13665,10200,6400,6200,7079,5200,3400,3600,1485,800,583],\"type\":\"choropleth\"}],                        {\"template\":{\"data\":{\"histogram2dcontour\":[{\"type\":\"histogram2dcontour\",\"colorbar\":{\"outlinewidth\":0,\"ticks\":\"\"},\"colorscale\":[[0.0,\"#0d0887\"],[0.1111111111111111,\"#46039f\"],[0.2222222222222222,\"#7201a8\"],[0.3333333333333333,\"#9c179e\"],[0.4444444444444444,\"#bd3786\"],[0.5555555555555556,\"#d8576b\"],[0.6666666666666666,\"#ed7953\"],[0.7777777777777778,\"#fb9f3a\"],[0.8888888888888888,\"#fdca26\"],[1.0,\"#f0f921\"]]}],\"choropleth\":[{\"type\":\"choropleth\",\"colorbar\":{\"outlinewidth\":0,\"ticks\":\"\"}}],\"histogram2d\":[{\"type\":\"histogram2d\",\"colorbar\":{\"outlinewidth\":0,\"ticks\":\"\"},\"colorscale\":[[0.0,\"#0d0887\"],[0.1111111111111111,\"#46039f\"],[0.2222222222222222,\"#7201a8\"],[0.3333333333333333,\"#9c179e\"],[0.4444444444444444,\"#bd3786\"],[0.5555555555555556,\"#d8576b\"],[0.6666666666666666,\"#ed7953\"],[0.7777777777777778,\"#fb9f3a\"],[0.8888888888888888,\"#fdca26\"],[1.0,\"#f0f921\"]]}],\"heatmap\":[{\"type\":\"heatmap\",\"colorbar\":{\"outlinewidth\":0,\"ticks\":\"\"},\"colorscale\":[[0.0,\"#0d0887\"],[0.1111111111111111,\"#46039f\"],[0.2222222222222222,\"#7201a8\"],[0.3333333333333333,\"#9c179e\"],[0.4444444444444444,\"#bd3786\"],[0.5555555555555556,\"#d8576b\"],[0.6666666666666666,\"#ed7953\"],[0.7777777777777778,\"#fb9f3a\"],[0.8888888888888888,\"#fdca26\"],[1.0,\"#f0f921\"]]}],\"heatmapgl\":[{\"type\":\"heatmapgl\",\"colorbar\":{\"outlinewidth\":0,\"ticks\":\"\"},\"colorscale\":[[0.0,\"#0d0887\"],[0.1111111111111111,\"#46039f\"],[0.2222222222222222,\"#7201a8\"],[0.3333333333333333,\"#9c179e\"],[0.4444444444444444,\"#bd3786\"],[0.5555555555555556,\"#d8576b\"],[0.6666666666666666,\"#ed7953\"],[0.7777777777777778,\"#fb9f3a\"],[0.8888888888888888,\"#fdca26\"],[1.0,\"#f0f921\"]]}],\"contourcarpet\":[{\"type\":\"contourcarpet\",\"colorbar\":{\"outlinewidth\":0,\"ticks\":\"\"}}],\"contour\":[{\"type\":\"contour\",\"colorbar\":{\"outlinewidth\":0,\"ticks\":\"\"},\"colorscale\":[[0.0,\"#0d0887\"],[0.1111111111111111,\"#46039f\"],[0.2222222222222222,\"#7201a8\"],[0.3333333333333333,\"#9c179e\"],[0.4444444444444444,\"#bd3786\"],[0.5555555555555556,\"#d8576b\"],[0.6666666666666666,\"#ed7953\"],[0.7777777777777778,\"#fb9f3a\"],[0.8888888888888888,\"#fdca26\"],[1.0,\"#f0f921\"]]}],\"surface\":[{\"type\":\"surface\",\"colorbar\":{\"outlinewidth\":0,\"ticks\":\"\"},\"colorscale\":[[0.0,\"#0d0887\"],[0.1111111111111111,\"#46039f\"],[0.2222222222222222,\"#7201a8\"],[0.3333333333333333,\"#9c179e\"],[0.4444444444444444,\"#bd3786\"],[0.5555555555555556,\"#d8576b\"],[0.6666666666666666,\"#ed7953\"],[0.7777777777777778,\"#fb9f3a\"],[0.8888888888888888,\"#fdca26\"],[1.0,\"#f0f921\"]]}],\"mesh3d\":[{\"type\":\"mesh3d\",\"colorbar\":{\"outlinewidth\":0,\"ticks\":\"\"}}],\"scatter\":[{\"fillpattern\":{\"fillmode\":\"overlay\",\"size\":10,\"solidity\":0.2},\"type\":\"scatter\"}],\"parcoords\":[{\"type\":\"parcoords\",\"line\":{\"colorbar\":{\"outlinewidth\":0,\"ticks\":\"\"}}}],\"scatterpolargl\":[{\"type\":\"scatterpolargl\",\"marker\":{\"colorbar\":{\"outlinewidth\":0,\"ticks\":\"\"}}}],\"bar\":[{\"error_x\":{\"color\":\"#2a3f5f\"},\"error_y\":{\"color\":\"#2a3f5f\"},\"marker\":{\"line\":{\"color\":\"#E5ECF6\",\"width\":0.5},\"pattern\":{\"fillmode\":\"overlay\",\"size\":10,\"solidity\":0.2}},\"type\":\"bar\"}],\"scattergeo\":[{\"type\":\"scattergeo\",\"marker\":{\"colorbar\":{\"outlinewidth\":0,\"ticks\":\"\"}}}],\"scatterpolar\":[{\"type\":\"scatterpolar\",\"marker\":{\"colorbar\":{\"outlinewidth\":0,\"ticks\":\"\"}}}],\"histogram\":[{\"marker\":{\"pattern\":{\"fillmode\":\"overlay\",\"size\":10,\"solidity\":0.2}},\"type\":\"histogram\"}],\"scattergl\":[{\"type\":\"scattergl\",\"marker\":{\"colorbar\":{\"outlinewidth\":0,\"ticks\":\"\"}}}],\"scatter3d\":[{\"type\":\"scatter3d\",\"line\":{\"colorbar\":{\"outlinewidth\":0,\"ticks\":\"\"}},\"marker\":{\"colorbar\":{\"outlinewidth\":0,\"ticks\":\"\"}}}],\"scattermapbox\":[{\"type\":\"scattermapbox\",\"marker\":{\"colorbar\":{\"outlinewidth\":0,\"ticks\":\"\"}}}],\"scatterternary\":[{\"type\":\"scatterternary\",\"marker\":{\"colorbar\":{\"outlinewidth\":0,\"ticks\":\"\"}}}],\"scattercarpet\":[{\"type\":\"scattercarpet\",\"marker\":{\"colorbar\":{\"outlinewidth\":0,\"ticks\":\"\"}}}],\"carpet\":[{\"aaxis\":{\"endlinecolor\":\"#2a3f5f\",\"gridcolor\":\"white\",\"linecolor\":\"white\",\"minorgridcolor\":\"white\",\"startlinecolor\":\"#2a3f5f\"},\"baxis\":{\"endlinecolor\":\"#2a3f5f\",\"gridcolor\":\"white\",\"linecolor\":\"white\",\"minorgridcolor\":\"white\",\"startlinecolor\":\"#2a3f5f\"},\"type\":\"carpet\"}],\"table\":[{\"cells\":{\"fill\":{\"color\":\"#EBF0F8\"},\"line\":{\"color\":\"white\"}},\"header\":{\"fill\":{\"color\":\"#C8D4E3\"},\"line\":{\"color\":\"white\"}},\"type\":\"table\"}],\"barpolar\":[{\"marker\":{\"line\":{\"color\":\"#E5ECF6\",\"width\":0.5},\"pattern\":{\"fillmode\":\"overlay\",\"size\":10,\"solidity\":0.2}},\"type\":\"barpolar\"}],\"pie\":[{\"automargin\":true,\"type\":\"pie\"}]},\"layout\":{\"autotypenumbers\":\"strict\",\"colorway\":[\"#636efa\",\"#EF553B\",\"#00cc96\",\"#ab63fa\",\"#FFA15A\",\"#19d3f3\",\"#FF6692\",\"#B6E880\",\"#FF97FF\",\"#FECB52\"],\"font\":{\"color\":\"#2a3f5f\"},\"hovermode\":\"closest\",\"hoverlabel\":{\"align\":\"left\"},\"paper_bgcolor\":\"white\",\"plot_bgcolor\":\"#E5ECF6\",\"polar\":{\"bgcolor\":\"#E5ECF6\",\"angularaxis\":{\"gridcolor\":\"white\",\"linecolor\":\"white\",\"ticks\":\"\"},\"radialaxis\":{\"gridcolor\":\"white\",\"linecolor\":\"white\",\"ticks\":\"\"}},\"ternary\":{\"bgcolor\":\"#E5ECF6\",\"aaxis\":{\"gridcolor\":\"white\",\"linecolor\":\"white\",\"ticks\":\"\"},\"baxis\":{\"gridcolor\":\"white\",\"linecolor\":\"white\",\"ticks\":\"\"},\"caxis\":{\"gridcolor\":\"white\",\"linecolor\":\"white\",\"ticks\":\"\"}},\"coloraxis\":{\"colorbar\":{\"outlinewidth\":0,\"ticks\":\"\"}},\"colorscale\":{\"sequential\":[[0.0,\"#0d0887\"],[0.1111111111111111,\"#46039f\"],[0.2222222222222222,\"#7201a8\"],[0.3333333333333333,\"#9c179e\"],[0.4444444444444444,\"#bd3786\"],[0.5555555555555556,\"#d8576b\"],[0.6666666666666666,\"#ed7953\"],[0.7777777777777778,\"#fb9f3a\"],[0.8888888888888888,\"#fdca26\"],[1.0,\"#f0f921\"]],\"sequentialminus\":[[0.0,\"#0d0887\"],[0.1111111111111111,\"#46039f\"],[0.2222222222222222,\"#7201a8\"],[0.3333333333333333,\"#9c179e\"],[0.4444444444444444,\"#bd3786\"],[0.5555555555555556,\"#d8576b\"],[0.6666666666666666,\"#ed7953\"],[0.7777777777777778,\"#fb9f3a\"],[0.8888888888888888,\"#fdca26\"],[1.0,\"#f0f921\"]],\"diverging\":[[0,\"#8e0152\"],[0.1,\"#c51b7d\"],[0.2,\"#de77ae\"],[0.3,\"#f1b6da\"],[0.4,\"#fde0ef\"],[0.5,\"#f7f7f7\"],[0.6,\"#e6f5d0\"],[0.7,\"#b8e186\"],[0.8,\"#7fbc41\"],[0.9,\"#4d9221\"],[1,\"#276419\"]]},\"xaxis\":{\"gridcolor\":\"white\",\"linecolor\":\"white\",\"ticks\":\"\",\"title\":{\"standoff\":15},\"zerolinecolor\":\"white\",\"automargin\":true,\"zerolinewidth\":2},\"yaxis\":{\"gridcolor\":\"white\",\"linecolor\":\"white\",\"ticks\":\"\",\"title\":{\"standoff\":15},\"zerolinecolor\":\"white\",\"automargin\":true,\"zerolinewidth\":2},\"scene\":{\"xaxis\":{\"backgroundcolor\":\"#E5ECF6\",\"gridcolor\":\"white\",\"linecolor\":\"white\",\"showbackground\":true,\"ticks\":\"\",\"zerolinecolor\":\"white\",\"gridwidth\":2},\"yaxis\":{\"backgroundcolor\":\"#E5ECF6\",\"gridcolor\":\"white\",\"linecolor\":\"white\",\"showbackground\":true,\"ticks\":\"\",\"zerolinecolor\":\"white\",\"gridwidth\":2},\"zaxis\":{\"backgroundcolor\":\"#E5ECF6\",\"gridcolor\":\"white\",\"linecolor\":\"white\",\"showbackground\":true,\"ticks\":\"\",\"zerolinecolor\":\"white\",\"gridwidth\":2}},\"shapedefaults\":{\"line\":{\"color\":\"#2a3f5f\"}},\"annotationdefaults\":{\"arrowcolor\":\"#2a3f5f\",\"arrowhead\":0,\"arrowwidth\":1},\"geo\":{\"bgcolor\":\"white\",\"landcolor\":\"#E5ECF6\",\"subunitcolor\":\"white\",\"showland\":true,\"showlakes\":true,\"lakecolor\":\"white\"},\"title\":{\"x\":0.05},\"mapbox\":{\"style\":\"light\"}}},\"geo\":{\"domain\":{\"x\":[0.0,1.0],\"y\":[0.0,1.0]},\"center\":{}},\"coloraxis\":{\"colorbar\":{\"title\":{\"text\":\"InternetUsersNumberOfInternetUsers\"}},\"colorscale\":[[0.0,\"#440154\"],[0.1111111111111111,\"#482878\"],[0.2222222222222222,\"#3e4989\"],[0.3333333333333333,\"#31688e\"],[0.4444444444444444,\"#26828e\"],[0.5555555555555556,\"#1f9e89\"],[0.6666666666666666,\"#35b779\"],[0.7777777777777778,\"#6ece58\"],[0.8888888888888888,\"#b5de2b\"],[1.0,\"#fde725\"]]},\"legend\":{\"tracegroupgap\":0},\"title\":{\"text\":\"Internet Users Number Of Country\"}},                        {\"responsive\": true}                    ).then(function(){\n",
       "                            \n",
       "var gd = document.getElementById('89d0ffc8-24d5-40be-8859-4146761a66db');\n",
       "var x = new MutationObserver(function (mutations, observer) {{\n",
       "        var display = window.getComputedStyle(gd).display;\n",
       "        if (!display || display === 'none') {{\n",
       "            console.log([gd, 'removed!']);\n",
       "            Plotly.purge(gd);\n",
       "            observer.disconnect();\n",
       "        }}\n",
       "}});\n",
       "\n",
       "// Listen for the removal of the full notebook cells\n",
       "var notebookContainer = gd.closest('#notebook-container');\n",
       "if (notebookContainer) {{\n",
       "    x.observe(notebookContainer, {childList: true});\n",
       "}}\n",
       "\n",
       "// Listen for the clearing of the current output cell\n",
       "var outputEl = gd.closest('.output');\n",
       "if (outputEl) {{\n",
       "    x.observe(outputEl, {childList: true});\n",
       "}}\n",
       "\n",
       "                        })                };                });            </script>        </div>"
      ]
     },
     "metadata": {},
     "output_type": "display_data"
    }
   ],
   "source": [
    "fig = px.choropleth(data, locations=\"country names\",\n",
    "                    locationmode=\"country names\",\n",
    "                    color=\"InternetUsersNumberOfInternetUsers\", \n",
    "                    hover_name=\"InternetUsersNumberOfInternetUsers\",  \n",
    "                    title=\"Internet Users Number Of Country\", \n",
    "                    color_continuous_scale=px.colors.sequential.Viridis)\n",
    "\n",
    "fig[\"layout\"].pop(\"updatemenus\")\n",
    "fig.show()\n"
   ]
  },
  {
   "cell_type": "code",
   "execution_count": 15,
   "id": "2bfcae1e",
   "metadata": {
    "scrolled": true
   },
   "outputs": [
    {
     "data": {
      "text/html": [
       "<div>\n",
       "<style scoped>\n",
       "    .dataframe tbody tr th:only-of-type {\n",
       "        vertical-align: middle;\n",
       "    }\n",
       "\n",
       "    .dataframe tbody tr th {\n",
       "        vertical-align: top;\n",
       "    }\n",
       "\n",
       "    .dataframe thead th {\n",
       "        text-align: right;\n",
       "    }\n",
       "</style>\n",
       "<table border=\"1\" class=\"dataframe\">\n",
       "  <thead>\n",
       "    <tr style=\"text-align: right;\">\n",
       "      <th></th>\n",
       "      <th>country names</th>\n",
       "      <th>InternetUsersNumberOfInternetUsers</th>\n",
       "      <th>InternetTraffic12-31-2020</th>\n",
       "      <th>InternetTrafficPercofResidentsWithInternetAccess</th>\n",
       "    </tr>\n",
       "  </thead>\n",
       "  <tbody>\n",
       "    <tr>\n",
       "      <th>95</th>\n",
       "      <td>United Arab Emirates</td>\n",
       "      <td>12176400</td>\n",
       "      <td>10082000</td>\n",
       "      <td>120.7</td>\n",
       "    </tr>\n",
       "    <tr>\n",
       "      <th>174</th>\n",
       "      <td>Brunei</td>\n",
       "      <td>531800</td>\n",
       "      <td>430500</td>\n",
       "      <td>119.7</td>\n",
       "    </tr>\n",
       "    <tr>\n",
       "      <th>135</th>\n",
       "      <td>Puerto Rico</td>\n",
       "      <td>3047311</td>\n",
       "      <td>3047311</td>\n",
       "      <td>110.9</td>\n",
       "    </tr>\n",
       "    <tr>\n",
       "      <th>204</th>\n",
       "      <td>Cayman Islands</td>\n",
       "      <td>73800</td>\n",
       "      <td>54630</td>\n",
       "      <td>110.2</td>\n",
       "    </tr>\n",
       "    <tr>\n",
       "      <th>157</th>\n",
       "      <td>Cyprus</td>\n",
       "      <td>1320400</td>\n",
       "      <td>1011831</td>\n",
       "      <td>108.1</td>\n",
       "    </tr>\n",
       "    <tr>\n",
       "      <th>172</th>\n",
       "      <td>Malta</td>\n",
       "      <td>478900</td>\n",
       "      <td>360056</td>\n",
       "      <td>107.9</td>\n",
       "    </tr>\n",
       "    <tr>\n",
       "      <th>141</th>\n",
       "      <td>Qatar</td>\n",
       "      <td>3179400</td>\n",
       "      <td>3056000</td>\n",
       "      <td>107.3</td>\n",
       "    </tr>\n",
       "    <tr>\n",
       "      <th>190</th>\n",
       "      <td>Guam</td>\n",
       "      <td>181200</td>\n",
       "      <td>149500</td>\n",
       "      <td>105.8</td>\n",
       "    </tr>\n",
       "    <tr>\n",
       "      <th>197</th>\n",
       "      <td>Aruba</td>\n",
       "      <td>111800</td>\n",
       "      <td>100000</td>\n",
       "      <td>104.0</td>\n",
       "    </tr>\n",
       "    <tr>\n",
       "      <th>220</th>\n",
       "      <td>Palau</td>\n",
       "      <td>18900</td>\n",
       "      <td>14000</td>\n",
       "      <td>103.6</td>\n",
       "    </tr>\n",
       "    <tr>\n",
       "      <th>205</th>\n",
       "      <td>Bermuda</td>\n",
       "      <td>61969</td>\n",
       "      <td>60122</td>\n",
       "      <td>100.1</td>\n",
       "    </tr>\n",
       "    <tr>\n",
       "      <th>214</th>\n",
       "      <td>Liechtenstein</td>\n",
       "      <td>38306</td>\n",
       "      <td>37674</td>\n",
       "      <td>100.0</td>\n",
       "    </tr>\n",
       "    <tr>\n",
       "      <th>153</th>\n",
       "      <td>Bahrain</td>\n",
       "      <td>1804583</td>\n",
       "      <td>1707533</td>\n",
       "      <td>100.0</td>\n",
       "    </tr>\n",
       "    <tr>\n",
       "      <th>178</th>\n",
       "      <td>Iceland</td>\n",
       "      <td>343400</td>\n",
       "      <td>337194</td>\n",
       "      <td>99.6</td>\n",
       "    </tr>\n",
       "    <tr>\n",
       "      <th>167</th>\n",
       "      <td>Luxembourg</td>\n",
       "      <td>636565</td>\n",
       "      <td>584037</td>\n",
       "      <td>99.0</td>\n",
       "    </tr>\n",
       "  </tbody>\n",
       "</table>\n",
       "</div>"
      ],
      "text/plain": [
       "            country names  InternetUsersNumberOfInternetUsers  \\\n",
       "95   United Arab Emirates                            12176400   \n",
       "174                Brunei                              531800   \n",
       "135           Puerto Rico                             3047311   \n",
       "204        Cayman Islands                               73800   \n",
       "157                Cyprus                             1320400   \n",
       "172                 Malta                              478900   \n",
       "141                 Qatar                             3179400   \n",
       "190                  Guam                              181200   \n",
       "197                 Aruba                              111800   \n",
       "220                 Palau                               18900   \n",
       "205               Bermuda                               61969   \n",
       "214         Liechtenstein                               38306   \n",
       "153               Bahrain                             1804583   \n",
       "178               Iceland                              343400   \n",
       "167            Luxembourg                              636565   \n",
       "\n",
       "     InternetTraffic12-31-2020  \\\n",
       "95                    10082000   \n",
       "174                     430500   \n",
       "135                    3047311   \n",
       "204                      54630   \n",
       "157                    1011831   \n",
       "172                     360056   \n",
       "141                    3056000   \n",
       "190                     149500   \n",
       "197                     100000   \n",
       "220                      14000   \n",
       "205                      60122   \n",
       "214                      37674   \n",
       "153                    1707533   \n",
       "178                     337194   \n",
       "167                     584037   \n",
       "\n",
       "     InternetTrafficPercofResidentsWithInternetAccess  \n",
       "95                                              120.7  \n",
       "174                                             119.7  \n",
       "135                                             110.9  \n",
       "204                                             110.2  \n",
       "157                                             108.1  \n",
       "172                                             107.9  \n",
       "141                                             107.3  \n",
       "190                                             105.8  \n",
       "197                                             104.0  \n",
       "220                                             103.6  \n",
       "205                                             100.1  \n",
       "214                                             100.0  \n",
       "153                                             100.0  \n",
       "178                                              99.6  \n",
       "167                                              99.0  "
      ]
     },
     "execution_count": 15,
     "metadata": {},
     "output_type": "execute_result"
    }
   ],
   "source": [
    "sorted_df_desc = data.sort_values(by = 'InternetTrafficPercofResidentsWithInternetAccess', ascending = False)\n",
    "sorted_df_desc.head(15)"
   ]
  },
  {
   "cell_type": "markdown",
   "id": "bf2a39cf",
   "metadata": {},
   "source": [
    "# know sort by lower internet user from population"
   ]
  },
  {
   "cell_type": "code",
   "execution_count": 16,
   "id": "f543d1a4",
   "metadata": {},
   "outputs": [
    {
     "data": {
      "text/html": [
       "<div>\n",
       "<style scoped>\n",
       "    .dataframe tbody tr th:only-of-type {\n",
       "        vertical-align: middle;\n",
       "    }\n",
       "\n",
       "    .dataframe tbody tr th {\n",
       "        vertical-align: top;\n",
       "    }\n",
       "\n",
       "    .dataframe thead th {\n",
       "        text-align: right;\n",
       "    }\n",
       "</style>\n",
       "<table border=\"1\" class=\"dataframe\">\n",
       "  <thead>\n",
       "    <tr style=\"text-align: right;\">\n",
       "      <th></th>\n",
       "      <th>country names</th>\n",
       "      <th>InternetUsersNumberOfInternetUsers</th>\n",
       "      <th>InternetTraffic12-31-2020</th>\n",
       "      <th>InternetTrafficPercofResidentsWithInternetAccess</th>\n",
       "    </tr>\n",
       "  </thead>\n",
       "  <tbody>\n",
       "    <tr>\n",
       "      <th>55</th>\n",
       "      <td>North Korea</td>\n",
       "      <td>20000</td>\n",
       "      <td>20000</td>\n",
       "      <td>0.1</td>\n",
       "    </tr>\n",
       "    <tr>\n",
       "      <th>171</th>\n",
       "      <td>Western Sahara</td>\n",
       "      <td>28000</td>\n",
       "      <td>28000</td>\n",
       "      <td>4.6</td>\n",
       "    </tr>\n",
       "    <tr>\n",
       "      <th>130</th>\n",
       "      <td>Eritrea</td>\n",
       "      <td>248199</td>\n",
       "      <td>248199</td>\n",
       "      <td>6.8</td>\n",
       "    </tr>\n",
       "    <tr>\n",
       "      <th>84</th>\n",
       "      <td>South Sudan</td>\n",
       "      <td>900716</td>\n",
       "      <td>900716</td>\n",
       "      <td>7.9</td>\n",
       "    </tr>\n",
       "    <tr>\n",
       "      <th>49</th>\n",
       "      <td>Madagascar</td>\n",
       "      <td>2864000</td>\n",
       "      <td>2864000</td>\n",
       "      <td>10.1</td>\n",
       "    </tr>\n",
       "    <tr>\n",
       "      <th>115</th>\n",
       "      <td>Central African Republic</td>\n",
       "      <td>557085</td>\n",
       "      <td>557085</td>\n",
       "      <td>11.2</td>\n",
       "    </tr>\n",
       "    <tr>\n",
       "      <th>88</th>\n",
       "      <td>Papua New Guinea</td>\n",
       "      <td>1099945</td>\n",
       "      <td>1099945</td>\n",
       "      <td>11.9</td>\n",
       "    </tr>\n",
       "    <tr>\n",
       "      <th>98</th>\n",
       "      <td>Togo</td>\n",
       "      <td>1011837</td>\n",
       "      <td>1011837</td>\n",
       "      <td>11.9</td>\n",
       "    </tr>\n",
       "    <tr>\n",
       "      <th>77</th>\n",
       "      <td>Burundi</td>\n",
       "      <td>1606122</td>\n",
       "      <td>1606122</td>\n",
       "      <td>12.8</td>\n",
       "    </tr>\n",
       "    <tr>\n",
       "      <th>67</th>\n",
       "      <td>Somalia</td>\n",
       "      <td>2089900</td>\n",
       "      <td>2089900</td>\n",
       "      <td>12.8</td>\n",
       "    </tr>\n",
       "    <tr>\n",
       "      <th>99</th>\n",
       "      <td>Sierra Leone</td>\n",
       "      <td>1043725</td>\n",
       "      <td>1043725</td>\n",
       "      <td>12.8</td>\n",
       "    </tr>\n",
       "    <tr>\n",
       "      <th>66</th>\n",
       "      <td>Chad</td>\n",
       "      <td>2237932</td>\n",
       "      <td>2237932</td>\n",
       "      <td>13.0</td>\n",
       "    </tr>\n",
       "    <tr>\n",
       "      <th>53</th>\n",
       "      <td>Niger</td>\n",
       "      <td>3363848</td>\n",
       "      <td>3363848</td>\n",
       "      <td>13.4</td>\n",
       "    </tr>\n",
       "    <tr>\n",
       "      <th>61</th>\n",
       "      <td>Malawi</td>\n",
       "      <td>2717243</td>\n",
       "      <td>2717243</td>\n",
       "      <td>13.8</td>\n",
       "    </tr>\n",
       "    <tr>\n",
       "      <th>118</th>\n",
       "      <td>Liberia</td>\n",
       "      <td>784500</td>\n",
       "      <td>760994</td>\n",
       "      <td>14.9</td>\n",
       "    </tr>\n",
       "  </tbody>\n",
       "</table>\n",
       "</div>"
      ],
      "text/plain": [
       "                country names  InternetUsersNumberOfInternetUsers  \\\n",
       "55                North Korea                               20000   \n",
       "171            Western Sahara                               28000   \n",
       "130                   Eritrea                              248199   \n",
       "84                South Sudan                              900716   \n",
       "49                 Madagascar                             2864000   \n",
       "115  Central African Republic                              557085   \n",
       "88           Papua New Guinea                             1099945   \n",
       "98                       Togo                             1011837   \n",
       "77                    Burundi                             1606122   \n",
       "67                    Somalia                             2089900   \n",
       "99               Sierra Leone                             1043725   \n",
       "66                       Chad                             2237932   \n",
       "53                      Niger                             3363848   \n",
       "61                     Malawi                             2717243   \n",
       "118                   Liberia                              784500   \n",
       "\n",
       "     InternetTraffic12-31-2020  \\\n",
       "55                       20000   \n",
       "171                      28000   \n",
       "130                     248199   \n",
       "84                      900716   \n",
       "49                     2864000   \n",
       "115                     557085   \n",
       "88                     1099945   \n",
       "98                     1011837   \n",
       "77                     1606122   \n",
       "67                     2089900   \n",
       "99                     1043725   \n",
       "66                     2237932   \n",
       "53                     3363848   \n",
       "61                     2717243   \n",
       "118                     760994   \n",
       "\n",
       "     InternetTrafficPercofResidentsWithInternetAccess  \n",
       "55                                                0.1  \n",
       "171                                               4.6  \n",
       "130                                               6.8  \n",
       "84                                                7.9  \n",
       "49                                               10.1  \n",
       "115                                              11.2  \n",
       "88                                               11.9  \n",
       "98                                               11.9  \n",
       "77                                               12.8  \n",
       "67                                               12.8  \n",
       "99                                               12.8  \n",
       "66                                               13.0  \n",
       "53                                               13.4  \n",
       "61                                               13.8  \n",
       "118                                              14.9  "
      ]
     },
     "execution_count": 16,
     "metadata": {},
     "output_type": "execute_result"
    }
   ],
   "source": [
    "sorted_df_asc = data.sort_values(by = 'InternetTrafficPercofResidentsWithInternetAccess', ascending = True)\n",
    "sorted_df_asc.head(15)"
   ]
  },
  {
   "cell_type": "markdown",
   "id": "9e0db8e8",
   "metadata": {},
   "source": [
    "let select country name loke like Et"
   ]
  },
  {
   "cell_type": "code",
   "execution_count": 19,
   "id": "d0e2f1f3",
   "metadata": {},
   "outputs": [
    {
     "data": {
      "text/html": [
       "<div>\n",
       "<style scoped>\n",
       "    .dataframe tbody tr th:only-of-type {\n",
       "        vertical-align: middle;\n",
       "    }\n",
       "\n",
       "    .dataframe tbody tr th {\n",
       "        vertical-align: top;\n",
       "    }\n",
       "\n",
       "    .dataframe thead th {\n",
       "        text-align: right;\n",
       "    }\n",
       "</style>\n",
       "<table border=\"1\" class=\"dataframe\">\n",
       "  <thead>\n",
       "    <tr style=\"text-align: right;\">\n",
       "      <th></th>\n",
       "      <th>country names</th>\n",
       "      <th>InternetUsersNumberOfInternetUsers</th>\n",
       "      <th>InternetTraffic12-31-2020</th>\n",
       "      <th>InternetTrafficPercofResidentsWithInternetAccess</th>\n",
       "    </tr>\n",
       "  </thead>\n",
       "  <tbody>\n",
       "    <tr>\n",
       "      <th>9</th>\n",
       "      <td>Ethiopia</td>\n",
       "      <td>21147255</td>\n",
       "      <td>21147255</td>\n",
       "      <td>17.7</td>\n",
       "    </tr>\n",
       "  </tbody>\n",
       "</table>\n",
       "</div>"
      ],
      "text/plain": [
       "  country names  InternetUsersNumberOfInternetUsers  \\\n",
       "9      Ethiopia                            21147255   \n",
       "\n",
       "   InternetTraffic12-31-2020  InternetTrafficPercofResidentsWithInternetAccess  \n",
       "9                   21147255                                              17.7  "
      ]
     },
     "execution_count": 19,
     "metadata": {},
     "output_type": "execute_result"
    }
   ],
   "source": [
    "df = data.loc[data['country names'] == 'Ethiopia']\n",
    "df"
   ]
  },
  {
   "cell_type": "code",
   "execution_count": 23,
   "id": "ade2ce11",
   "metadata": {},
   "outputs": [
    {
     "data": {
      "text/html": [
       "<div>\n",
       "<style scoped>\n",
       "    .dataframe tbody tr th:only-of-type {\n",
       "        vertical-align: middle;\n",
       "    }\n",
       "\n",
       "    .dataframe tbody tr th {\n",
       "        vertical-align: top;\n",
       "    }\n",
       "\n",
       "    .dataframe thead th {\n",
       "        text-align: right;\n",
       "    }\n",
       "</style>\n",
       "<table border=\"1\" class=\"dataframe\">\n",
       "  <thead>\n",
       "    <tr style=\"text-align: right;\">\n",
       "      <th></th>\n",
       "      <th>country names</th>\n",
       "      <th>InternetUsersNumberOfInternetUsers</th>\n",
       "      <th>InternetTraffic12-31-2020</th>\n",
       "      <th>InternetTrafficPercofResidentsWithInternetAccess</th>\n",
       "    </tr>\n",
       "  </thead>\n",
       "  <tbody>\n",
       "    <tr>\n",
       "      <th>2</th>\n",
       "      <td>United States</td>\n",
       "      <td>312320000</td>\n",
       "      <td>312322257</td>\n",
       "      <td>93.4</td>\n",
       "    </tr>\n",
       "    <tr>\n",
       "      <th>9</th>\n",
       "      <td>Ethiopia</td>\n",
       "      <td>21147255</td>\n",
       "      <td>21147255</td>\n",
       "      <td>17.7</td>\n",
       "    </tr>\n",
       "    <tr>\n",
       "      <th>21</th>\n",
       "      <td>United Kingdom</td>\n",
       "      <td>65045228</td>\n",
       "      <td>63544106</td>\n",
       "      <td>95.0</td>\n",
       "    </tr>\n",
       "    <tr>\n",
       "      <th>95</th>\n",
       "      <td>United Arab Emirates</td>\n",
       "      <td>12176400</td>\n",
       "      <td>10082000</td>\n",
       "      <td>120.7</td>\n",
       "    </tr>\n",
       "    <tr>\n",
       "      <th>199</th>\n",
       "      <td>United States Virgin Islands</td>\n",
       "      <td>67540</td>\n",
       "      <td>63529</td>\n",
       "      <td>64.8</td>\n",
       "    </tr>\n",
       "  </tbody>\n",
       "</table>\n",
       "</div>"
      ],
      "text/plain": [
       "                    country names  InternetUsersNumberOfInternetUsers  \\\n",
       "2                   United States                           312320000   \n",
       "9                        Ethiopia                            21147255   \n",
       "21                 United Kingdom                            65045228   \n",
       "95           United Arab Emirates                            12176400   \n",
       "199  United States Virgin Islands                               67540   \n",
       "\n",
       "     InternetTraffic12-31-2020  \\\n",
       "2                    312322257   \n",
       "9                     21147255   \n",
       "21                    63544106   \n",
       "95                    10082000   \n",
       "199                      63529   \n",
       "\n",
       "     InternetTrafficPercofResidentsWithInternetAccess  \n",
       "2                                                93.4  \n",
       "9                                                17.7  \n",
       "21                                               95.0  \n",
       "95                                              120.7  \n",
       "199                                              64.8  "
      ]
     },
     "execution_count": 23,
     "metadata": {},
     "output_type": "execute_result"
    }
   ],
   "source": [
    "filtered_rows = data[data['country names'].str.contains('Eth|Un')]\n",
    "filtered_rows"
   ]
  },
  {
   "cell_type": "code",
   "execution_count": 22,
   "id": "ee28e8f2",
   "metadata": {},
   "outputs": [
    {
     "data": {
      "text/html": [
       "<div>\n",
       "<style scoped>\n",
       "    .dataframe tbody tr th:only-of-type {\n",
       "        vertical-align: middle;\n",
       "    }\n",
       "\n",
       "    .dataframe tbody tr th {\n",
       "        vertical-align: top;\n",
       "    }\n",
       "\n",
       "    .dataframe thead th {\n",
       "        text-align: right;\n",
       "    }\n",
       "</style>\n",
       "<table border=\"1\" class=\"dataframe\">\n",
       "  <thead>\n",
       "    <tr style=\"text-align: right;\">\n",
       "      <th></th>\n",
       "      <th>country names</th>\n",
       "      <th>InternetUsersNumberOfInternetUsers</th>\n",
       "      <th>InternetTraffic12-31-2020</th>\n",
       "      <th>InternetTrafficPercofResidentsWithInternetAccess</th>\n",
       "    </tr>\n",
       "  </thead>\n",
       "  <tbody>\n",
       "    <tr>\n",
       "      <th>9</th>\n",
       "      <td>Ethiopia</td>\n",
       "      <td>21147255</td>\n",
       "      <td>21147255</td>\n",
       "      <td>17.7</td>\n",
       "    </tr>\n",
       "    <tr>\n",
       "      <th>13</th>\n",
       "      <td>Egypt</td>\n",
       "      <td>54741493</td>\n",
       "      <td>54741493</td>\n",
       "      <td>51.9</td>\n",
       "    </tr>\n",
       "    <tr>\n",
       "      <th>68</th>\n",
       "      <td>Ecuador</td>\n",
       "      <td>15769600</td>\n",
       "      <td>13476687</td>\n",
       "      <td>87.2</td>\n",
       "    </tr>\n",
       "    <tr>\n",
       "      <th>95</th>\n",
       "      <td>United Arab Emirates</td>\n",
       "      <td>12176400</td>\n",
       "      <td>10082000</td>\n",
       "      <td>120.7</td>\n",
       "    </tr>\n",
       "    <tr>\n",
       "      <th>111</th>\n",
       "      <td>El Salvador</td>\n",
       "      <td>4895400</td>\n",
       "      <td>3700000</td>\n",
       "      <td>74.9</td>\n",
       "    </tr>\n",
       "    <tr>\n",
       "      <th>130</th>\n",
       "      <td>Eritrea</td>\n",
       "      <td>248199</td>\n",
       "      <td>248199</td>\n",
       "      <td>6.8</td>\n",
       "    </tr>\n",
       "    <tr>\n",
       "      <th>151</th>\n",
       "      <td>Equatorial Guinea</td>\n",
       "      <td>362891</td>\n",
       "      <td>362891</td>\n",
       "      <td>24.5</td>\n",
       "    </tr>\n",
       "    <tr>\n",
       "      <th>155</th>\n",
       "      <td>Estonia</td>\n",
       "      <td>1276521</td>\n",
       "      <td>1276521</td>\n",
       "      <td>96.1</td>\n",
       "    </tr>\n",
       "    <tr>\n",
       "      <th>158</th>\n",
       "      <td>Eswatini</td>\n",
       "      <td>665245</td>\n",
       "      <td>665245</td>\n",
       "      <td>56.4</td>\n",
       "    </tr>\n",
       "  </tbody>\n",
       "</table>\n",
       "</div>"
      ],
      "text/plain": [
       "            country names  InternetUsersNumberOfInternetUsers  \\\n",
       "9                Ethiopia                            21147255   \n",
       "13                  Egypt                            54741493   \n",
       "68                Ecuador                            15769600   \n",
       "95   United Arab Emirates                            12176400   \n",
       "111           El Salvador                             4895400   \n",
       "130               Eritrea                              248199   \n",
       "151     Equatorial Guinea                              362891   \n",
       "155               Estonia                             1276521   \n",
       "158              Eswatini                              665245   \n",
       "\n",
       "     InternetTraffic12-31-2020  \\\n",
       "9                     21147255   \n",
       "13                    54741493   \n",
       "68                    13476687   \n",
       "95                    10082000   \n",
       "111                    3700000   \n",
       "130                     248199   \n",
       "151                     362891   \n",
       "155                    1276521   \n",
       "158                     665245   \n",
       "\n",
       "     InternetTrafficPercofResidentsWithInternetAccess  \n",
       "9                                                17.7  \n",
       "13                                               51.9  \n",
       "68                                               87.2  \n",
       "95                                              120.7  \n",
       "111                                              74.9  \n",
       "130                                               6.8  \n",
       "151                                              24.5  \n",
       "155                                              96.1  \n",
       "158                                              56.4  "
      ]
     },
     "execution_count": 22,
     "metadata": {},
     "output_type": "execute_result"
    }
   ],
   "source": [
    "filtered_rows1 = data[data['country names'].str.contains('Et')]\n",
    "filtered_rows1"
   ]
  },
  {
   "cell_type": "markdown",
   "id": "758353d3",
   "metadata": {},
   "source": [
    "Tnkis!"
   ]
  }
 ],
 "metadata": {
  "kernelspec": {
   "display_name": "Python 3 (ipykernel)",
   "language": "python",
   "name": "python3"
  },
  "language_info": {
   "codemirror_mode": {
    "name": "ipython",
    "version": 3
   },
   "file_extension": ".py",
   "mimetype": "text/x-python",
   "name": "python",
   "nbconvert_exporter": "python",
   "pygments_lexer": "ipython3",
   "version": "3.11.5"
  }
 },
 "nbformat": 4,
 "nbformat_minor": 5
}
